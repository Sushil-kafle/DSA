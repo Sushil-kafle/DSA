{
 "cells": [
  {
   "cell_type": "markdown",
   "metadata": {},
   "source": [
    "## to find the given array sorted or not"
   ]
  },
  {
   "cell_type": "code",
   "execution_count": 51,
   "metadata": {},
   "outputs": [],
   "source": [
    "def isSorted(n):\n",
    "    if len(n) is (0 or 1) :\n",
    "        return True\n",
    "    if n[0] > n[1]:\n",
    "        return False\n",
    "    return isSorted(n[1::])\n"
   ]
  },
  {
   "cell_type": "code",
   "execution_count": 53,
   "metadata": {},
   "outputs": [
    {
     "name": "stdout",
     "output_type": "stream",
     "text": [
      "True\n"
     ]
    }
   ],
   "source": [
    "a =[1,2,3,4,5,6,7]\n",
    "# a =[1,2,3,4,5,6,7,3]\n",
    "b = isSorted(a)\n",
    "print(b)"
   ]
  },
  {
   "cell_type": "markdown",
   "metadata": {},
   "source": [
    "## to filter out the even number from the given lists"
   ]
  },
  {
   "cell_type": "code",
   "execution_count": 1,
   "metadata": {},
   "outputs": [],
   "source": [
    "def filterEven(n):\n",
    "    newList=[]\n",
    "    def helper(n):    \n",
    "        if(len(n) == 0):\n",
    "            return newList\n",
    "        elif n[0]%2 == 0:\n",
    "            newList.append(n[0])\n",
    "        helper(n[1::])\n",
    "    helper(n)\n",
    "    return newList\n",
    "\n",
    "\n"
   ]
  },
  {
   "cell_type": "code",
   "execution_count": 4,
   "metadata": {},
   "outputs": [
    {
     "name": "stdout",
     "output_type": "stream",
     "text": [
      "[0, 2, 4, 6, 0]\n"
     ]
    }
   ],
   "source": [
    "a = [0,1,2,3,4,5,6,7,0]\n",
    "\n",
    "print(filterEven(a))\n"
   ]
  },
  {
   "cell_type": "markdown",
   "metadata": {},
   "source": [
    "## to find the sum of array "
   ]
  },
  {
   "cell_type": "code",
   "execution_count": 9,
   "metadata": {},
   "outputs": [],
   "source": [
    "def sumOfArray(n):\n",
    "    if len(n) == 0:\n",
    "        return 0\n",
    "    else:\n",
    "        sum =n[0]+ sumOfArray(n[1::])\n",
    "    return sum    "
   ]
  },
  {
   "cell_type": "code",
   "execution_count": 11,
   "metadata": {},
   "outputs": [
    {
     "data": {
      "text/plain": [
       "14"
      ]
     },
     "execution_count": 11,
     "metadata": {},
     "output_type": "execute_result"
    }
   ],
   "source": [
    "a = [1,2,3,4,5,6,-7]\n",
    "sumOfArray(a)"
   ]
  },
  {
   "cell_type": "markdown",
   "metadata": {},
   "source": [
    "## check whether list contains the given number or not "
   ]
  },
  {
   "cell_type": "code",
   "execution_count": 21,
   "metadata": {},
   "outputs": [],
   "source": [
    "def checkNum(n,a):\n",
    "    if len(n)==0:\n",
    "        return False\n",
    "    if n[0]== a:\n",
    "        return True\n",
    "    return checkNum(n[1::],a)"
   ]
  },
  {
   "cell_type": "code",
   "execution_count": 22,
   "metadata": {},
   "outputs": [
    {
     "data": {
      "text/plain": [
       "False"
      ]
     },
     "execution_count": 22,
     "metadata": {},
     "output_type": "execute_result"
    }
   ],
   "source": [
    "a = [1,2,3,4,5,6,7,8,9]\n",
    "checkNum(a,10)\n"
   ]
  },
  {
   "cell_type": "markdown",
   "metadata": {},
   "source": [
    "## check number but in improved way"
   ]
  },
  {
   "cell_type": "code",
   "execution_count": 51,
   "metadata": {},
   "outputs": [],
   "source": [
    "def checkNumImproved(n,a,i=0):\n",
    "    if len(n)==0:\n",
    "        return False\n",
    "    if n[i] == a:\n",
    "        return True\n",
    "    return checkNum(n,i+1)"
   ]
  },
  {
   "cell_type": "code",
   "execution_count": 52,
   "metadata": {},
   "outputs": [
    {
     "data": {
      "text/plain": [
       "False"
      ]
     },
     "execution_count": 52,
     "metadata": {},
     "output_type": "execute_result"
    }
   ],
   "source": [
    "a = [1, 2, 3, 4, 5, 6, 7, 8, 9]\n",
    "checkNum(a, 100)\n"
   ]
  },
  {
   "cell_type": "markdown",
   "metadata": {},
   "source": [
    "## to find the index of the given array"
   ]
  },
  {
   "cell_type": "code",
   "execution_count": 98,
   "metadata": {},
   "outputs": [],
   "source": [
    "def findIndex(n,a,i=0):\n",
    "    if i == len(n) :\n",
    "        return -1\n",
    "    elif n[i]==a:\n",
    "        return i\n",
    "    return findIndex(n, a, i+1)"
   ]
  },
  {
   "cell_type": "code",
   "execution_count": 99,
   "metadata": {},
   "outputs": [
    {
     "data": {
      "text/plain": [
       "-1"
      ]
     },
     "execution_count": 99,
     "metadata": {},
     "output_type": "execute_result"
    }
   ],
   "source": [
    "arr = [1,2,3,4,5,6,7,8,9]\n",
    "findIndex(arr,80)"
   ]
  },
  {
   "cell_type": "markdown",
   "metadata": {},
   "source": [
    "To find the last index of the number"
   ]
  },
  {
   "cell_type": "code",
   "execution_count": 130,
   "metadata": {},
   "outputs": [],
   "source": [
    "def findLastIndex(n,a,i=0):\n",
    "    if i == len(n):\n",
    "        return -1\n",
    "    if n[i]==a:\n",
    "        repeat_index= findLastIndex(n,a,i+1)\n",
    "        if repeat_index == -1:\n",
    "            return i\n",
    "    return findLastIndex(n,a,i+1)\n"
   ]
  },
  {
   "cell_type": "code",
   "execution_count": 139,
   "metadata": {},
   "outputs": [
    {
     "data": {
      "text/plain": [
       "-1"
      ]
     },
     "execution_count": 139,
     "metadata": {},
     "output_type": "execute_result"
    }
   ],
   "source": [
    "arr = [1,2,3,4,8,5,6,7,8,9,7,7,8,9,9,0,5,6]\n",
    "findLastIndex(arr,90)"
   ]
  }
 ],
 "metadata": {
  "interpreter": {
   "hash": "544e67dbc9ea258cfdae9dff5bb38118e3639d5e4126ddce6f7cfcaeae3aca18"
  },
  "kernelspec": {
   "display_name": "Python 3.10.0 64-bit",
   "language": "python",
   "name": "python3"
  },
  "language_info": {
   "codemirror_mode": {
    "name": "ipython",
    "version": 3
   },
   "file_extension": ".py",
   "mimetype": "text/x-python",
   "name": "python",
   "nbconvert_exporter": "python",
   "pygments_lexer": "ipython3",
   "version": "3.10.0"
  },
  "orig_nbformat": 4
 },
 "nbformat": 4,
 "nbformat_minor": 2
}
